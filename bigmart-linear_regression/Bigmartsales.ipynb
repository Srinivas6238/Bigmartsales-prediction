{
 "cells": [
  {
   "cell_type": "code",
   "execution_count": 1,
   "id": "83dc265d",
   "metadata": {},
   "outputs": [
    {
     "name": "stdout",
     "output_type": "stream",
     "text": [
      "<class 'pandas.core.frame.DataFrame'>\n",
      "RangeIndex: 8523 entries, 0 to 8522\n",
      "Data columns (total 12 columns):\n",
      " #   Column                     Non-Null Count  Dtype  \n",
      "---  ------                     --------------  -----  \n",
      " 0   Item_Identifier            8523 non-null   object \n",
      " 1   Item_Weight                7060 non-null   float64\n",
      " 2   Item_Fat_Content           8523 non-null   object \n",
      " 3   Item_Visibility            8523 non-null   float64\n",
      " 4   Item_Type                  8523 non-null   object \n",
      " 5   Item_MRP                   8523 non-null   float64\n",
      " 6   Outlet_Identifier          8523 non-null   object \n",
      " 7   Outlet_Establishment_Year  8523 non-null   int64  \n",
      " 8   Outlet_Size                6113 non-null   object \n",
      " 9   Outlet_Location_Type       8523 non-null   object \n",
      " 10  Outlet_Type                8523 non-null   object \n",
      " 11  Item_Outlet_Sales          8523 non-null   float64\n",
      "dtypes: float64(4), int64(1), object(7)\n",
      "memory usage: 799.2+ KB\n",
      "None\n"
     ]
    }
   ],
   "source": [
    "import pandas as pd\n",
    "\n",
    "path=\"bigmart_train.csv\"\n",
    "\n",
    "data=pd.read_csv(path)\n",
    "print(data.info())"
   ]
  },
  {
   "cell_type": "code",
   "execution_count": 2,
   "id": "72e13092",
   "metadata": {},
   "outputs": [
    {
     "data": {
      "text/plain": [
       "Item_Identifier                 0\n",
       "Item_Weight                  1463\n",
       "Item_Fat_Content                0\n",
       "Item_Visibility                 0\n",
       "Item_Type                       0\n",
       "Item_MRP                        0\n",
       "Outlet_Identifier               0\n",
       "Outlet_Establishment_Year       0\n",
       "Outlet_Size                  2410\n",
       "Outlet_Location_Type            0\n",
       "Outlet_Type                     0\n",
       "Item_Outlet_Sales               0\n",
       "dtype: int64"
      ]
     },
     "execution_count": 2,
     "metadata": {},
     "output_type": "execute_result"
    }
   ],
   "source": [
    "#Check missing values:\n",
    "data.apply(lambda x: sum(x.isnull()))"
   ]
  },
  {
   "cell_type": "code",
   "execution_count": 3,
   "id": "25ce9cad",
   "metadata": {},
   "outputs": [],
   "source": [
    "data.head()\n",
    "inputs=data.drop(['Item_Outlet_Sales','Item_Identifier','Outlet_Identifier', 'Outlet_Establishment_Year', 'Outlet_Size'],axis=1)\n",
    "outputs=data['Item_Outlet_Sales']\n"
   ]
  },
  {
   "cell_type": "code",
   "execution_count": 4,
   "id": "638b672b",
   "metadata": {},
   "outputs": [
    {
     "data": {
      "text/plain": [
       "count    7060.000000\n",
       "mean       12.857645\n",
       "std         4.643456\n",
       "min         4.555000\n",
       "25%         8.773750\n",
       "50%        12.600000\n",
       "75%        16.850000\n",
       "max        21.350000\n",
       "Name: Item_Weight, dtype: float64"
      ]
     },
     "execution_count": 4,
     "metadata": {},
     "output_type": "execute_result"
    }
   ],
   "source": [
    "data['Item_Weight'].describe()"
   ]
  },
  {
   "cell_type": "code",
   "execution_count": 5,
   "id": "2e7523e9",
   "metadata": {},
   "outputs": [],
   "source": [
    "data['Item_Weight'].fillna(data['Item_Weight'].mean(),inplace=True)"
   ]
  },
  {
   "cell_type": "code",
   "execution_count": 6,
   "id": "8cf09961",
   "metadata": {
    "scrolled": false
   },
   "outputs": [
    {
     "data": {
      "text/plain": [
       "Item_Identifier                 0\n",
       "Item_Weight                     0\n",
       "Item_Fat_Content                0\n",
       "Item_Visibility                 0\n",
       "Item_Type                       0\n",
       "Item_MRP                        0\n",
       "Outlet_Identifier               0\n",
       "Outlet_Establishment_Year       0\n",
       "Outlet_Size                  2410\n",
       "Outlet_Location_Type            0\n",
       "Outlet_Type                     0\n",
       "Item_Outlet_Sales               0\n",
       "dtype: int64"
      ]
     },
     "execution_count": 6,
     "metadata": {},
     "output_type": "execute_result"
    }
   ],
   "source": [
    "#Check missing values:\n",
    "data.apply(lambda x: sum(x.isnull()))"
   ]
  },
  {
   "cell_type": "code",
   "execution_count": 7,
   "id": "af0daa90",
   "metadata": {},
   "outputs": [
    {
     "data": {
      "text/plain": [
       "count       6113\n",
       "unique         3\n",
       "top       Medium\n",
       "freq        2793\n",
       "Name: Outlet_Size, dtype: object"
      ]
     },
     "execution_count": 7,
     "metadata": {},
     "output_type": "execute_result"
    }
   ],
   "source": [
    "data['Outlet_Size'].describe()"
   ]
  },
  {
   "cell_type": "code",
   "execution_count": 8,
   "id": "e0050e46",
   "metadata": {},
   "outputs": [],
   "source": [
    "data['Outlet_Size'].fillna(data['Outlet_Size'].mode()[0],inplace=True)"
   ]
  },
  {
   "cell_type": "code",
   "execution_count": 9,
   "id": "3c23150a",
   "metadata": {
    "scrolled": true
   },
   "outputs": [
    {
     "data": {
      "text/plain": [
       "Item_Identifier              0\n",
       "Item_Weight                  0\n",
       "Item_Fat_Content             0\n",
       "Item_Visibility              0\n",
       "Item_Type                    0\n",
       "Item_MRP                     0\n",
       "Outlet_Identifier            0\n",
       "Outlet_Establishment_Year    0\n",
       "Outlet_Size                  0\n",
       "Outlet_Location_Type         0\n",
       "Outlet_Type                  0\n",
       "Item_Outlet_Sales            0\n",
       "dtype: int64"
      ]
     },
     "execution_count": 9,
     "metadata": {},
     "output_type": "execute_result"
    }
   ],
   "source": [
    "#Check missing values:\n",
    "data.apply(lambda x: sum(x.isnull()))"
   ]
  },
  {
   "cell_type": "code",
   "execution_count": 10,
   "id": "ac4cb699",
   "metadata": {},
   "outputs": [],
   "source": [
    "from sklearn.preprocessing import LabelEncoder\n",
    "le=LabelEncoder()\n",
    "\n",
    "data['Item_Fat_Content']= le.fit_transform(data['Item_Fat_Content'])\n",
    "data['Item_Type']= le.fit_transform(data['Item_Type'])\n",
    "data['Outlet_Size']= le.fit_transform(data['Outlet_Size'])\n",
    "data['Outlet_Location_Type']= le.fit_transform(data['Outlet_Location_Type'])\n",
    "data['Outlet_Type']= le.fit_transform(data['Outlet_Type'])\n"
   ]
  },
  {
   "cell_type": "code",
   "execution_count": 11,
   "id": "f0f877fd",
   "metadata": {
    "scrolled": false
   },
   "outputs": [
    {
     "data": {
      "text/html": [
       "<div>\n",
       "<style scoped>\n",
       "    .dataframe tbody tr th:only-of-type {\n",
       "        vertical-align: middle;\n",
       "    }\n",
       "\n",
       "    .dataframe tbody tr th {\n",
       "        vertical-align: top;\n",
       "    }\n",
       "\n",
       "    .dataframe thead th {\n",
       "        text-align: right;\n",
       "    }\n",
       "</style>\n",
       "<table border=\"1\" class=\"dataframe\">\n",
       "  <thead>\n",
       "    <tr style=\"text-align: right;\">\n",
       "      <th></th>\n",
       "      <th>Item_Identifier</th>\n",
       "      <th>Item_Weight</th>\n",
       "      <th>Item_Fat_Content</th>\n",
       "      <th>Item_Visibility</th>\n",
       "      <th>Item_Type</th>\n",
       "      <th>Item_MRP</th>\n",
       "      <th>Outlet_Identifier</th>\n",
       "      <th>Outlet_Establishment_Year</th>\n",
       "      <th>Outlet_Size</th>\n",
       "      <th>Outlet_Location_Type</th>\n",
       "      <th>Outlet_Type</th>\n",
       "      <th>Item_Outlet_Sales</th>\n",
       "    </tr>\n",
       "  </thead>\n",
       "  <tbody>\n",
       "    <tr>\n",
       "      <th>0</th>\n",
       "      <td>FDA15</td>\n",
       "      <td>9.300</td>\n",
       "      <td>1</td>\n",
       "      <td>0.016047</td>\n",
       "      <td>4</td>\n",
       "      <td>249.8092</td>\n",
       "      <td>OUT049</td>\n",
       "      <td>1999</td>\n",
       "      <td>1</td>\n",
       "      <td>0</td>\n",
       "      <td>1</td>\n",
       "      <td>3735.1380</td>\n",
       "    </tr>\n",
       "    <tr>\n",
       "      <th>1</th>\n",
       "      <td>DRC01</td>\n",
       "      <td>5.920</td>\n",
       "      <td>2</td>\n",
       "      <td>0.019278</td>\n",
       "      <td>14</td>\n",
       "      <td>48.2692</td>\n",
       "      <td>OUT018</td>\n",
       "      <td>2009</td>\n",
       "      <td>1</td>\n",
       "      <td>2</td>\n",
       "      <td>2</td>\n",
       "      <td>443.4228</td>\n",
       "    </tr>\n",
       "    <tr>\n",
       "      <th>2</th>\n",
       "      <td>FDN15</td>\n",
       "      <td>17.500</td>\n",
       "      <td>1</td>\n",
       "      <td>0.016760</td>\n",
       "      <td>10</td>\n",
       "      <td>141.6180</td>\n",
       "      <td>OUT049</td>\n",
       "      <td>1999</td>\n",
       "      <td>1</td>\n",
       "      <td>0</td>\n",
       "      <td>1</td>\n",
       "      <td>2097.2700</td>\n",
       "    </tr>\n",
       "    <tr>\n",
       "      <th>3</th>\n",
       "      <td>FDX07</td>\n",
       "      <td>19.200</td>\n",
       "      <td>2</td>\n",
       "      <td>0.000000</td>\n",
       "      <td>6</td>\n",
       "      <td>182.0950</td>\n",
       "      <td>OUT010</td>\n",
       "      <td>1998</td>\n",
       "      <td>1</td>\n",
       "      <td>2</td>\n",
       "      <td>0</td>\n",
       "      <td>732.3800</td>\n",
       "    </tr>\n",
       "    <tr>\n",
       "      <th>4</th>\n",
       "      <td>NCD19</td>\n",
       "      <td>8.930</td>\n",
       "      <td>1</td>\n",
       "      <td>0.000000</td>\n",
       "      <td>9</td>\n",
       "      <td>53.8614</td>\n",
       "      <td>OUT013</td>\n",
       "      <td>1987</td>\n",
       "      <td>0</td>\n",
       "      <td>2</td>\n",
       "      <td>1</td>\n",
       "      <td>994.7052</td>\n",
       "    </tr>\n",
       "    <tr>\n",
       "      <th>...</th>\n",
       "      <td>...</td>\n",
       "      <td>...</td>\n",
       "      <td>...</td>\n",
       "      <td>...</td>\n",
       "      <td>...</td>\n",
       "      <td>...</td>\n",
       "      <td>...</td>\n",
       "      <td>...</td>\n",
       "      <td>...</td>\n",
       "      <td>...</td>\n",
       "      <td>...</td>\n",
       "      <td>...</td>\n",
       "    </tr>\n",
       "    <tr>\n",
       "      <th>8518</th>\n",
       "      <td>FDF22</td>\n",
       "      <td>6.865</td>\n",
       "      <td>1</td>\n",
       "      <td>0.056783</td>\n",
       "      <td>13</td>\n",
       "      <td>214.5218</td>\n",
       "      <td>OUT013</td>\n",
       "      <td>1987</td>\n",
       "      <td>0</td>\n",
       "      <td>2</td>\n",
       "      <td>1</td>\n",
       "      <td>2778.3834</td>\n",
       "    </tr>\n",
       "    <tr>\n",
       "      <th>8519</th>\n",
       "      <td>FDS36</td>\n",
       "      <td>8.380</td>\n",
       "      <td>2</td>\n",
       "      <td>0.046982</td>\n",
       "      <td>0</td>\n",
       "      <td>108.1570</td>\n",
       "      <td>OUT045</td>\n",
       "      <td>2002</td>\n",
       "      <td>1</td>\n",
       "      <td>1</td>\n",
       "      <td>1</td>\n",
       "      <td>549.2850</td>\n",
       "    </tr>\n",
       "    <tr>\n",
       "      <th>8520</th>\n",
       "      <td>NCJ29</td>\n",
       "      <td>10.600</td>\n",
       "      <td>1</td>\n",
       "      <td>0.035186</td>\n",
       "      <td>8</td>\n",
       "      <td>85.1224</td>\n",
       "      <td>OUT035</td>\n",
       "      <td>2004</td>\n",
       "      <td>2</td>\n",
       "      <td>1</td>\n",
       "      <td>1</td>\n",
       "      <td>1193.1136</td>\n",
       "    </tr>\n",
       "    <tr>\n",
       "      <th>8521</th>\n",
       "      <td>FDN46</td>\n",
       "      <td>7.210</td>\n",
       "      <td>2</td>\n",
       "      <td>0.145221</td>\n",
       "      <td>13</td>\n",
       "      <td>103.1332</td>\n",
       "      <td>OUT018</td>\n",
       "      <td>2009</td>\n",
       "      <td>1</td>\n",
       "      <td>2</td>\n",
       "      <td>2</td>\n",
       "      <td>1845.5976</td>\n",
       "    </tr>\n",
       "    <tr>\n",
       "      <th>8522</th>\n",
       "      <td>DRG01</td>\n",
       "      <td>14.800</td>\n",
       "      <td>1</td>\n",
       "      <td>0.044878</td>\n",
       "      <td>14</td>\n",
       "      <td>75.4670</td>\n",
       "      <td>OUT046</td>\n",
       "      <td>1997</td>\n",
       "      <td>2</td>\n",
       "      <td>0</td>\n",
       "      <td>1</td>\n",
       "      <td>765.6700</td>\n",
       "    </tr>\n",
       "  </tbody>\n",
       "</table>\n",
       "<p>8523 rows × 12 columns</p>\n",
       "</div>"
      ],
      "text/plain": [
       "     Item_Identifier  Item_Weight  Item_Fat_Content  Item_Visibility  \\\n",
       "0              FDA15        9.300                 1         0.016047   \n",
       "1              DRC01        5.920                 2         0.019278   \n",
       "2              FDN15       17.500                 1         0.016760   \n",
       "3              FDX07       19.200                 2         0.000000   \n",
       "4              NCD19        8.930                 1         0.000000   \n",
       "...              ...          ...               ...              ...   \n",
       "8518           FDF22        6.865                 1         0.056783   \n",
       "8519           FDS36        8.380                 2         0.046982   \n",
       "8520           NCJ29       10.600                 1         0.035186   \n",
       "8521           FDN46        7.210                 2         0.145221   \n",
       "8522           DRG01       14.800                 1         0.044878   \n",
       "\n",
       "      Item_Type  Item_MRP Outlet_Identifier  Outlet_Establishment_Year  \\\n",
       "0             4  249.8092            OUT049                       1999   \n",
       "1            14   48.2692            OUT018                       2009   \n",
       "2            10  141.6180            OUT049                       1999   \n",
       "3             6  182.0950            OUT010                       1998   \n",
       "4             9   53.8614            OUT013                       1987   \n",
       "...         ...       ...               ...                        ...   \n",
       "8518         13  214.5218            OUT013                       1987   \n",
       "8519          0  108.1570            OUT045                       2002   \n",
       "8520          8   85.1224            OUT035                       2004   \n",
       "8521         13  103.1332            OUT018                       2009   \n",
       "8522         14   75.4670            OUT046                       1997   \n",
       "\n",
       "      Outlet_Size  Outlet_Location_Type  Outlet_Type  Item_Outlet_Sales  \n",
       "0               1                     0            1          3735.1380  \n",
       "1               1                     2            2           443.4228  \n",
       "2               1                     0            1          2097.2700  \n",
       "3               1                     2            0           732.3800  \n",
       "4               0                     2            1           994.7052  \n",
       "...           ...                   ...          ...                ...  \n",
       "8518            0                     2            1          2778.3834  \n",
       "8519            1                     1            1           549.2850  \n",
       "8520            2                     1            1          1193.1136  \n",
       "8521            1                     2            2          1845.5976  \n",
       "8522            2                     0            1           765.6700  \n",
       "\n",
       "[8523 rows x 12 columns]"
      ]
     },
     "execution_count": 11,
     "metadata": {},
     "output_type": "execute_result"
    }
   ],
   "source": [
    "data"
   ]
  },
  {
   "cell_type": "code",
   "execution_count": 12,
   "id": "9b889fca",
   "metadata": {},
   "outputs": [],
   "source": [
    "inputs=data.drop(['Item_Outlet_Sales','Item_Identifier','Outlet_Identifier', 'Outlet_Establishment_Year', 'Outlet_Size'],axis=1)\n",
    "outputs=data['Item_Outlet_Sales']\n"
   ]
  },
  {
   "cell_type": "code",
   "execution_count": 13,
   "id": "62f43f43",
   "metadata": {
    "scrolled": true
   },
   "outputs": [
    {
     "name": "stdout",
     "output_type": "stream",
     "text": [
      "6404    4508.1318\n",
      "5820    1090.5804\n",
      "48      2576.6460\n",
      "4583     743.0328\n",
      "3791     968.7390\n",
      "          ...    \n",
      "4373     194.4136\n",
      "7891    6239.8776\n",
      "4859    1438.1280\n",
      "3264    3185.1872\n",
      "2732    4544.0850\n",
      "Name: Item_Outlet_Sales, Length: 6818, dtype: float64\n"
     ]
    }
   ],
   "source": [
    "from sklearn.model_selection import train_test_split\n",
    "\n",
    "X_train, X_test, Y_train, Y_test = train_test_split(inputs,outputs,random_state=0,test_size=0.2)\n",
    "\n",
    "print(Y_train)"
   ]
  },
  {
   "cell_type": "code",
   "execution_count": 14,
   "id": "cef7777a",
   "metadata": {},
   "outputs": [],
   "source": [
    "from sklearn.preprocessing import StandardScaler\n",
    "sc= StandardScaler()"
   ]
  },
  {
   "cell_type": "code",
   "execution_count": 15,
   "id": "f22b22b6",
   "metadata": {},
   "outputs": [],
   "source": [
    "X_train_std= sc.fit_transform(X_train)"
   ]
  },
  {
   "cell_type": "code",
   "execution_count": 16,
   "id": "60d0dfb1",
   "metadata": {},
   "outputs": [],
   "source": [
    "X_test_std= sc.transform(X_test)"
   ]
  },
  {
   "cell_type": "code",
   "execution_count": 17,
   "id": "f96178ae",
   "metadata": {},
   "outputs": [
    {
     "name": "stdout",
     "output_type": "stream",
     "text": [
      "50.234676973896384\n"
     ]
    }
   ],
   "source": [
    "from sklearn.linear_model import LinearRegression\n",
    "from sklearn.metrics import r2_score,confusion_matrix\n",
    "model=LinearRegression()\n",
    "model.fit(X_train_std,Y_train)\n",
    "Y_pred=model.predict(X_test_std)\n",
    "\n",
    "\n",
    "\n",
    "print(r2_score(Y_test,Y_pred)*100)"
   ]
  },
  {
   "cell_type": "code",
   "execution_count": null,
   "id": "409aa0f7",
   "metadata": {},
   "outputs": [],
   "source": [
    "# -*- coding: utf-8 -*-\n",
    "\n",
    "# Form implementation generated from reading ui file 'bigmart.ui'\n",
    "#\n",
    "# Created by: PyQt5 UI code generator 5.15.4\n",
    "#\n",
    "# WARNING: Any manual changes made to this file will be lost when pyuic5 is\n",
    "# run again.  Do not edit this file unless you know what you are doing.\n",
    "\n",
    "\n",
    "from PyQt5 import QtCore, QtGui, QtWidgets\n",
    "\n",
    "\n",
    "class Ui_Form(object):\n",
    "    def setupUi(self, Form):\n",
    "        Form.setObjectName(\"Form\")\n",
    "        Form.resize(764, 824)\n",
    "        self.label = QtWidgets.QLabel(Form)\n",
    "        self.label.setGeometry(QtCore.QRect(170, 30, 471, 91))\n",
    "        self.label.setStyleSheet(\"\\n\"\n",
    "\"font: 18pt \\\"Rockwell Extra Bold\\\";\")\n",
    "        self.label.setObjectName(\"label\")\n",
    "        self.itemweight = QtWidgets.QLabel(Form)\n",
    "        self.itemweight.setGeometry(QtCore.QRect(160, 180, 121, 31))\n",
    "        self.itemweight.setStyleSheet(\"font: 18pt \\\"Rockwell Condensed\\\";\")\n",
    "        self.itemweight.setObjectName(\"itemweight\")\n",
    "        self.itemweight_2 = QtWidgets.QLineEdit(Form)\n",
    "        self.itemweight_2.setGeometry(QtCore.QRect(380, 180, 131, 31))\n",
    "        self.itemweight_2.setObjectName(\"itemweight_2\")\n",
    "        self.itemfatcontent = QtWidgets.QLabel(Form)\n",
    "        self.itemfatcontent.setGeometry(QtCore.QRect(160, 240, 171, 31))\n",
    "        self.itemfatcontent.setStyleSheet(\"font: 18pt \\\"Rockwell Condensed\\\";\")\n",
    "        self.itemfatcontent.setObjectName(\"itemfatcontent\")\n",
    "        self.itemfatcontent_2 = QtWidgets.QLineEdit(Form)\n",
    "        self.itemfatcontent_2.setGeometry(QtCore.QRect(380, 240, 131, 31))\n",
    "        self.itemfatcontent_2.setObjectName(\"itemfatcontent_2\")\n",
    "        self.itemvisibility = QtWidgets.QLabel(Form)\n",
    "        self.itemvisibility.setGeometry(QtCore.QRect(160, 300, 151, 31))\n",
    "        self.itemvisibility.setStyleSheet(\"font: 18pt \\\"Rockwell Condensed\\\";\")\n",
    "        self.itemvisibility.setObjectName(\"itemvisibility\")\n",
    "        self.itemvisibility_2 = QtWidgets.QLineEdit(Form)\n",
    "        self.itemvisibility_2.setGeometry(QtCore.QRect(380, 300, 131, 31))\n",
    "        self.itemvisibility_2.setObjectName(\"itemvisibility_2\")\n",
    "        self.itemtype = QtWidgets.QLabel(Form)\n",
    "        self.itemtype.setGeometry(QtCore.QRect(160, 360, 151, 31))\n",
    "        self.itemtype.setStyleSheet(\"font: 18pt \\\"Rockwell Condensed\\\";\")\n",
    "        self.itemtype.setObjectName(\"itemtype\")\n",
    "        self.itemtype_2 = QtWidgets.QLineEdit(Form)\n",
    "        self.itemtype_2.setGeometry(QtCore.QRect(380, 360, 131, 31))\n",
    "        self.itemtype_2.setObjectName(\"itemtype_2\")\n",
    "        self.itemmrp = QtWidgets.QLabel(Form)\n",
    "        self.itemmrp.setGeometry(QtCore.QRect(160, 420, 151, 31))\n",
    "        self.itemmrp.setStyleSheet(\"font: 18pt \\\"Rockwell Condensed\\\";\")\n",
    "        self.itemmrp.setObjectName(\"itemmrp\")\n",
    "        self.itemmrp_2 = QtWidgets.QLineEdit(Form)\n",
    "        self.itemmrp_2.setGeometry(QtCore.QRect(380, 420, 131, 31))\n",
    "        self.itemmrp_2.setObjectName(\"itemmrp_2\")\n",
    "        self.outletsize = QtWidgets.QLabel(Form)\n",
    "        self.outletsize.setGeometry(QtCore.QRect(160, 480, 151, 31))\n",
    "        self.outletsize.setStyleSheet(\"font: 18pt \\\"Rockwell Condensed\\\";\")\n",
    "        self.outletsize.setObjectName(\"outletsize\")\n",
    "        self.locationtype_2 = QtWidgets.QLineEdit(Form)\n",
    "        self.locationtype_2.setGeometry(QtCore.QRect(380, 540, 131, 31))\n",
    "        self.locationtype_2.setObjectName(\"locationtype_2\")\n",
    "        self.locationtype = QtWidgets.QLabel(Form)\n",
    "        self.locationtype.setGeometry(QtCore.QRect(160, 540, 211, 31))\n",
    "        self.locationtype.setStyleSheet(\"font: 18pt \\\"Rockwell Condensed\\\";\")\n",
    "        self.locationtype.setObjectName(\"locationtype\")\n",
    "        self.outletsize_2 = QtWidgets.QLineEdit(Form)\n",
    "        self.outletsize_2.setGeometry(QtCore.QRect(380, 480, 131, 31))\n",
    "        self.outletsize_2.setObjectName(\"outletsize_2\")\n",
    "        self.outletype = QtWidgets.QLabel(Form)\n",
    "        self.outletype.setGeometry(QtCore.QRect(160, 600, 151, 31))\n",
    "        self.outletype.setStyleSheet(\"font: 18pt \\\"Rockwell Condensed\\\";\")\n",
    "        self.outletype.setObjectName(\"outletype\")\n",
    "        self.outletype_2 = QtWidgets.QLineEdit(Form)\n",
    "        self.outletype_2.setGeometry(QtCore.QRect(380, 610, 131, 31))\n",
    "        self.outletype_2.setObjectName(\"outletype_2\")\n",
    "        self.result = QtWidgets.QLabel(Form)\n",
    "        self.result.setGeometry(QtCore.QRect(290, 740, 211, 31))\n",
    "        self.result.setStyleSheet(\"font: 18pt \\\"Rockwell Condensed\\\";\")\n",
    "        self.result.setObjectName(\"result\")\n",
    "        self.pushButton = QtWidgets.QPushButton(Form)\n",
    "        self.pushButton.setGeometry(QtCore.QRect(330, 670, 121, 41))\n",
    "        self.pushButton.setStyleSheet(\"font: 16pt \\\"Segoe UI Symbol\\\";\\n\"\n",
    "\"color:rgb(0, 0, 255);\")\n",
    "        self.pushButton.setObjectName(\"pushButton\")\n",
    "        \n",
    "        self.result.setText(\"\") \n",
    "        self.pushButton.setObjectName(\"result\")\n",
    "        \n",
    "    \n",
    "\n",
    "        self.pushButton.clicked.connect(self.predict)\n",
    "\n",
    "        \n",
    "        \n",
    "        self.retranslateUi(Form)\n",
    "        QtCore.QMetaObject.connectSlotsByName(Form)\n",
    "        \n",
    "    \n",
    "    def predict(self):\n",
    "        a=self.itemweight_2.text()\n",
    "        b=self.itemfatcontent_2.text()\n",
    "        c=self.itemvisibility_2.text()\n",
    "        d=self.itemtype_2.text()\n",
    "        e=self.itemmrp_2.text()\n",
    "        f=self.outletsize_2.text()\n",
    "        g=self.locationtype_2.text()\n",
    "        h=self.outletype_2.text()\n",
    "        \n",
    "        if a.isnumeric() and b.isnumeric() and c.isnumeric and d.isnumeric() and e.isnumeric() and f.isnumeric() and g.isnumeric() and h.isnumeric():\n",
    "            a=float(a)\n",
    "            b=float(b)\n",
    "            c=float(c)\n",
    "            d=float(d)\n",
    "            e=float(e)\n",
    "            f=float(f)\n",
    "            g=float(g)\n",
    "            h=float(h)\n",
    "            \n",
    "            res=model.predict([[a,b,c,d,e,f,g,h]])\n",
    "            print(res)\n",
    "            self.result.setText(str(res))\n",
    "\n",
    "    def retranslateUi(self, Form):\n",
    "        _translate = QtCore.QCoreApplication.translate\n",
    "        Form.setWindowTitle(_translate(\"Form\", \"Form\"))\n",
    "        self.label.setText(_translate(\"Form\", \"<html><head/><body><p><span style=\\\" color:#0000ff;\\\">Big mart Sales Predictor</span></p></body></html>\"))\n",
    "        self.itemweight.setText(_translate(\"Form\", \"Item Weight\"))\n",
    "        self.itemfatcontent.setText(_translate(\"Form\", \"Item fat content\"))\n",
    "        self.itemvisibility.setText(_translate(\"Form\", \"Item Visibility\"))\n",
    "        self.itemtype.setText(_translate(\"Form\", \"Item Type\"))\n",
    "        self.itemmrp.setText(_translate(\"Form\", \"Item MRP\"))\n",
    "        self.outletsize.setText(_translate(\"Form\", \"Outlet Size\"))\n",
    "        self.locationtype.setText(_translate(\"Form\", \"Outlet Location Type\"))\n",
    "        self.outletype.setText(_translate(\"Form\", \"Outlet Type\"))\n",
    "        self.result.setText(_translate(\"Form\", \"Item outlet sales\"))\n",
    "        self.pushButton.setText(_translate(\"Form\", \"Predict\"))\n",
    "\n",
    "\n",
    "if __name__ == \"__main__\":\n",
    "    import sys\n",
    "    app = QtWidgets.QApplication(sys.argv)\n",
    "    Form = QtWidgets.QWidget()\n",
    "    ui = Ui_Form()\n",
    "    ui.setupUi(Form)\n",
    "    Form.show()\n",
    "    sys.exit(app.exec_())\n"
   ]
  },
  {
   "cell_type": "code",
   "execution_count": null,
   "id": "2951fcc1",
   "metadata": {},
   "outputs": [],
   "source": []
  },
  {
   "cell_type": "code",
   "execution_count": null,
   "id": "a4934054",
   "metadata": {},
   "outputs": [],
   "source": []
  },
  {
   "cell_type": "code",
   "execution_count": null,
   "id": "679f2feb",
   "metadata": {},
   "outputs": [],
   "source": []
  },
  {
   "cell_type": "code",
   "execution_count": null,
   "id": "d6b3843b",
   "metadata": {},
   "outputs": [],
   "source": []
  },
  {
   "cell_type": "code",
   "execution_count": null,
   "id": "e3218fe1",
   "metadata": {},
   "outputs": [],
   "source": []
  },
  {
   "cell_type": "code",
   "execution_count": null,
   "id": "7997fb96",
   "metadata": {},
   "outputs": [],
   "source": []
  },
  {
   "cell_type": "code",
   "execution_count": null,
   "id": "cadf2b16",
   "metadata": {},
   "outputs": [],
   "source": []
  }
 ],
 "metadata": {
  "kernelspec": {
   "display_name": "Python 3 (ipykernel)",
   "language": "python",
   "name": "python3"
  },
  "language_info": {
   "codemirror_mode": {
    "name": "ipython",
    "version": 3
   },
   "file_extension": ".py",
   "mimetype": "text/x-python",
   "name": "python",
   "nbconvert_exporter": "python",
   "pygments_lexer": "ipython3",
   "version": "3.9.12"
  }
 },
 "nbformat": 4,
 "nbformat_minor": 5
}
